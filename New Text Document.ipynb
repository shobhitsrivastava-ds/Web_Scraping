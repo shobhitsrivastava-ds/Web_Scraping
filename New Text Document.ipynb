from bs4 import BeautifulSoup
import requests
import csv

source=requests.get("https://www.flipkart.com/search?q=iphones&otracker=search&otracker1=search&marketplace=FLIPKART&as-show=on&as=off").text

soup=BeautifulSoup(source,"lxml")

csv_file=open("flip_scrap.csv","w",encoding="utf-8")
csv_writer=csv.writer(csv_file)
csv_writer.writerow(["Phone_Name","Price_Details","Star","Reviews","Ratings"])
article=soup.find_all("div",class_="_1UoZlX")
#print(len(article))
#headline=article.text
for i in range(len(article)):
    Phone_Name=article[i].find("div",class_="_3wU53n").text 
    print("So the {} product name is {} ".format(i+1,Phone_Name),sep=" ") 
    ############################################################################
    star=article[i].find("div",class_="hGSR34 _2beYZw").text
    print(star)

    rating=article[i].find("span",class_="_38sUEc").text
    real_rating,real_reviews=rating.split("&")
    print(real_rating)
    print(real_reviews)

    price=article[i].find("div",class_="col col-5-12 _2o7WAb").text
    ac_price=price.split("?")
    actual_price=ac_price[1]
    print(actual_price)





    #print(container)
    print()
    csv_writer.writerow([Phone_Name,actual_price,star,real_reviews,real_rating])
    #print(soup.prettify())
csv_file.close()